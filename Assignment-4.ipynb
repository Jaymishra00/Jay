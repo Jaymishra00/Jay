{
 "cells": [
  {
   "cell_type": "code",
   "execution_count": null,
   "metadata": {},
   "outputs": [],
   "source": [
    "#Q1: Finding the area of the triangle\n",
    "class data:\n",
    "    def __init__(self):\n",
    "        self.A = int(input(\"Tell the first side of the triangle: \"))\n",
    "        self.B = int(input(\"Tell the second side of the triangle: \"))\n",
    "        self.C = int(input(\"Tell the third side of the triangle: \"))\n",
    "\n",
    "        \n",
    "\n",
    "class area(data):\n",
    "    def area_of_triangle(self):\n",
    "        s = (self.A + self.B + self.C)/2\n",
    "        return (s*(s-self.A)*(s-self.B)*(s-self.C)) ** 0.5\n",
    "\n",
    "    \n",
    "find = area()\n",
    "find.area_of_triangle()"
   ]
  },
  {
   "cell_type": "code",
   "execution_count": 1,
   "metadata": {},
   "outputs": [],
   "source": [
    "#Q2 Write a function filter_long_words() that takes a list of words and an integer n and returns\n",
    "#the list of words that are longer than n.\n",
    "def filter_long_word(list_of_Words,length_of_number):\n",
    "    long_words = []\n",
    "    for i in list_of_Words:\n",
    "        if len(i)>length_of_number:\n",
    "            long_words.append(i)\n",
    "    return(long_words)"
   ]
  },
  {
   "cell_type": "code",
   "execution_count": 2,
   "metadata": {},
   "outputs": [
    {
     "data": {
      "text/plain": [
       "['Hello', 'Dhananjay']"
      ]
     },
     "execution_count": 2,
     "metadata": {},
     "output_type": "execute_result"
    }
   ],
   "source": [
    "filter_long_word(['Hello','Dhananjay','How','Are','You'],3)"
   ]
  },
  {
   "cell_type": "code",
   "execution_count": 3,
   "metadata": {},
   "outputs": [],
   "source": [
    "#Q3Write a Python program using function concept that maps list of words into a list of integers\n",
    "#representing the lengths of the corresponding words.\n",
    "def list_words(list_passing):\n",
    "    number_list = []\n",
    "    for i in list_passing:\n",
    "        length = len(i)\n",
    "        number_list.append(length)\n",
    "    return(number_list)"
   ]
  },
  {
   "cell_type": "code",
   "execution_count": 4,
   "metadata": {},
   "outputs": [
    {
     "data": {
      "text/plain": [
       "[2, 3, 4]"
      ]
     },
     "execution_count": 4,
     "metadata": {},
     "output_type": "execute_result"
    }
   ],
   "source": [
    "list_words(['ab','cde','erty'])"
   ]
  },
  {
   "cell_type": "code",
   "execution_count": null,
   "metadata": {},
   "outputs": [],
   "source": [
    "#Q4 Write a Python function which takes a character (i.e. a string of length 1) and returns True if\n",
    "#it is a vowel, False otherwise.\n",
    "def vowel(alphabet):\n",
    "    if alphabet=='a' or alphabet=='e' or alphabet =='i' or alphabet == 'o' or alphabet == 'u':\n",
    "        return True\n",
    "    else:\n",
    "        return False"
   ]
  }
 ],
 "metadata": {
  "kernelspec": {
   "display_name": "Python 3",
   "language": "python",
   "name": "python3"
  },
  "language_info": {
   "codemirror_mode": {
    "name": "ipython",
    "version": 3
   },
   "file_extension": ".py",
   "mimetype": "text/x-python",
   "name": "python",
   "nbconvert_exporter": "python",
   "pygments_lexer": "ipython3",
   "version": "3.7.4"
  }
 },
 "nbformat": 4,
 "nbformat_minor": 2
}
