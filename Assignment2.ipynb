{
 "cells": [
  {
   "cell_type": "code",
   "execution_count": 1,
   "metadata": {},
   "outputs": [
    {
     "name": "stdout",
     "output_type": "stream",
     "text": [
      "* \r\n",
      "* * \r\n",
      "* * * \r\n",
      "* * * * \r\n",
      "* * * * * \r\n",
      "* * * * \r\n",
      "* * * \r\n",
      "* * \r\n",
      "* \r\n",
      "\r\n"
     ]
    }
   ],
   "source": [
    "#Creating the pattern using nested for loop\n",
    "for i in range(0,5):\n",
    "    for j in range(0,i+1):\n",
    "        print(\"*\", end = \" \")\n",
    "    print(\"\\r\")\n",
    "for i in range(5,0,-1):\n",
    "    for j in range(0,i-1):\n",
    "        print(\"*\", end = \" \")\n",
    "    print(\"\\r\")"
   ]
  },
  {
   "cell_type": "code",
   "execution_count": 5,
   "metadata": {},
   "outputs": [
    {
     "name": "stdout",
     "output_type": "stream",
     "text": [
      "Tell me the word you want to reverse: ineuron\n",
      "norueni\n"
     ]
    }
   ],
   "source": [
    "#Write a Python program to reverse a word after accepting the input from the user.\n",
    "user_input = input(\"Tell me the word you want to reverse: \")\n",
    "rev = \"\"\n",
    "length = len(user_input)\n",
    "for i in range(length,0,-1):\n",
    "    rev = rev + user_input[i-1]\n",
    "print(rev)   "
   ]
  },
  {
   "cell_type": "code",
   "execution_count": null,
   "metadata": {},
   "outputs": [],
   "source": []
  }
 ],
 "metadata": {
  "kernelspec": {
   "display_name": "Python 3",
   "language": "python",
   "name": "python3"
  },
  "language_info": {
   "codemirror_mode": {
    "name": "ipython",
    "version": 3
   },
   "file_extension": ".py",
   "mimetype": "text/x-python",
   "name": "python",
   "nbconvert_exporter": "python",
   "pygments_lexer": "ipython3",
   "version": "3.7.4"
  }
 },
 "nbformat": 4,
 "nbformat_minor": 2
}
