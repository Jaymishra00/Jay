{
 "cells": [
  {
   "cell_type": "code",
   "execution_count": null,
   "metadata": {},
   "outputs": [],
   "source": [
    "import random"
   ]
  },
  {
   "cell_type": "code",
   "execution_count": null,
   "metadata": {},
   "outputs": [],
   "source": [
    "def choose():\n",
    "    words = ['modified','player','exhausted','everyday','practice','vocabulary','international']\n",
    "    pick = random.choice(words)\n",
    "    return pick"
   ]
  },
  {
   "cell_type": "code",
   "execution_count": null,
   "metadata": {},
   "outputs": [],
   "source": [
    "def jumble(word):\n",
    "    jumbled = \"\".join(random.sample(word, len(word)))\n",
    "    return jumbled"
   ]
  },
  {
   "cell_type": "code",
   "execution_count": null,
   "metadata": {},
   "outputs": [],
   "source": [
    "def choose_game():\n",
    "    P1_name = input(\"Hey! Please tell your name: \")#Asking player 1 his/her name\n",
    "    P2_name = input(\"Hey! Please tell your name: \")#Asking player 2 his/her name\n",
    "    P1_point = 0\n",
    "    P2_point = 0\n",
    "    Turn = 1 \n",
    "    while(1):\n",
    "        Word = choose() #We will save the word to be guessed inside the Word variable\n",
    "        jumbled_word = jumble(Word) #We will use the jumbled word\n",
    "        print(\"Well start making guesses, your word is: \",jumbled_word)\n",
    "        #Now we will check whose turn it is\n",
    "        #If Number is off it will be Player 1 turn\n",
    "        if Turn%2 != 0:\n",
    "            print(P1_name, \"Well it is your turn\") #Telling Player 1 that this is his turn \n",
    "            guess = input(\"Tell the guess: \")#Telling him to guess the correct word\n",
    "            #So if the word is guessed correctly then there will be an increase point other wise we will ask player 1 \n",
    "            #whether he want to play or not\n",
    "            if guess == Word:\n",
    "                P1_point += 1\n",
    "                print(\"You are correct!! your score is:  \",P1_point)\n",
    "            play_again = int(input(\"Please presee 1 not coninue and 0 to quit: \"))\n",
    "            #If he tells to quit than we wil quit the game\n",
    "            if play_again == 0:\n",
    "                print(\"Thanks for playing\")\n",
    "                break\n",
    "        #Player 2 turn\n",
    "        else:\n",
    "            print(P2_name, \"Well it is your turn\") #Telling Player 2 that this is his turn \n",
    "            guess = input(\"Tell the guess: \") #Telling him to guess the correct word\n",
    "            #So if the word is guessed correctly then there will be an increase point other wise we will ask player 2 \n",
    "            #whether he want to play or not\n",
    "            if guess == Word: \n",
    "                P2_point += 1\n",
    "                print(\"You are correct!! your score is:  \",P1_point)\n",
    "            play_again = int(input(\"Please presee 1 not coninue and 0 to quit: \"))\n",
    "            #If he tells to quit than we wil quit the game   \n",
    "            if play_again == 0:\n",
    "                print(\"Thanks for playing\")\n",
    "                break\n",
    "        Turn = Turn + 1\n",
    "                "
   ]
  }
 ],
 "metadata": {
  "kernelspec": {
   "display_name": "Python 3",
   "language": "python",
   "name": "python3"
  },
  "language_info": {
   "codemirror_mode": {
    "name": "ipython",
    "version": 3
   },
   "file_extension": ".py",
   "mimetype": "text/x-python",
   "name": "python",
   "nbconvert_exporter": "python",
   "pygments_lexer": "ipython3",
   "version": "3.7.4"
  }
 },
 "nbformat": 4,
 "nbformat_minor": 2
}
